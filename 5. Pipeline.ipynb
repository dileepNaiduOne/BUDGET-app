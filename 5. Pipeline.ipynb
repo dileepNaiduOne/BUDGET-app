{
 "cells": [
  {
   "cell_type": "markdown",
   "id": "72ff45b6-9abb-45f4-a807-3356fed36513",
   "metadata": {},
   "source": [
    "# ***`Ouput from webpage form`***"
   ]
  },
  {
   "cell_type": "code",
   "execution_count": null,
   "id": "127c344f-c2a4-41c8-99a4-382624038b5d",
   "metadata": {},
   "outputs": [],
   "source": [
    "output = [\n",
    "            21,\n",
    "            \"Male - :material/male:\",\n",
    "            \"Master's\",\n",
    "            \"Unemployed\",\n",
    "            \"Single - :material/man_4:\",\n",
    "            \"Urban\",\n",
    "            \"House\",\n",
    "            \"No\",\n",
    "            \"Weekly\",\n",
    "            5124,\n",
    "            3,\n",
    "            784,\n",
    "            7844.99,\n",
    "            \"datetime.date(2022, 8, 17)\",\n",
    "            \"Basic\",\n",
    "            8,\n",
    "            2,\n",
    "            8,\n",
    "            \"Good\"\n",
    "        ]"
   ]
  },
  {
   "cell_type": "code",
   "execution_count": null,
   "id": "bc5d502b-0441-429d-bc07-46e6c8693df1",
   "metadata": {},
   "outputs": [],
   "source": [
    "# Age                            21,\n",
    "# Gender                         \"Male - :material/male:\",\n",
    "# Education Level                \"Master's\",\n",
    "# Occupation                     \"Unemployed\",\n",
    "# Marital Status                 \"Single - :material/man_4:\",\n",
    "# Location                       \"Urban\",\n",
    "# Property Type                  \"House\",\n",
    "# Smoking Status                 \"No\",\n",
    "# Exercise Frequency             \"Weekly\",\n",
    "# Annual Income (₹)              5124,\n",
    "# No. of Dependents              3,\n",
    "# Health Score                   784,\n",
    "# Credit Score                   7844.99,\n",
    "# Policy Start Date              \"datetime.date(2022, 8, 17)\",\n",
    "# Policy Type                    \"Basic\",\n",
    "# Insurance Duration             8,\n",
    "# Previous Claims                2,\n",
    "# Vehicle Age                    8,\n",
    "# Customer Feedback              \"Good\""
   ]
  },
  {
   "cell_type": "markdown",
   "id": "2db28eff-ecf2-473d-b814-60e726b5e785",
   "metadata": {},
   "source": [
    "# ***`Input that ML Model needs`***"
   ]
  },
  {
   "cell_type": "code",
   "execution_count": 2,
   "id": "f18455d1-5353-4aa5-ad8b-1e1837b411ba",
   "metadata": {
    "execution": {
     "iopub.execute_input": "2025-01-02T07:40:15.786678Z",
     "iopub.status.busy": "2025-01-02T07:40:15.786678Z",
     "iopub.status.idle": "2025-01-02T07:40:15.795249Z",
     "shell.execute_reply": "2025-01-02T07:40:15.794237Z",
     "shell.execute_reply.started": "2025-01-02T07:40:15.786678Z"
    }
   },
   "outputs": [],
   "source": [
    "# Health Conscious Level                                 4.000000e+00\n",
    "# SCALER_Annual_Income                                  -5.726975e-01\n",
    "# SCALER_Credit_Score                                   -9.656652e-01\n",
    "# SCALER_IsNull_Annual_Income                            0.000000e+00\n",
    "# SCALER_Money_Handling_Level                           -6.168446e-01\n",
    "# SCALER_Money_Handling_Level1                          -4.493340e-01\n",
    "# SCALER_Money_Per_Head                                 -4.789053e-01\n",
    "# SCALER_Growth                                         -4.271325e-01\n",
    "# SCALER_Credit_by_Score                                -4.757282e-01\n",
    "# SCALER_Determinstic                                   -4.750959e-01\n",
    "# SCALER_Growth1                                        -4.692119e-01\n",
    "# SCALER_Feedback1                                      -3.616695e-01\n",
    "# SCALER_Previous_Claims_MEDIAN_Premium_Amount           0.000000e+00\n",
    "# SCALER_IsNull_Health_Score                             0.000000e+00\n",
    "# SCALER_Previous_Claims_MEAN_Premium_Amount             0.000000e+00\n",
    "# SCALER_Previous_Claims                                 0.000000e+00\n",
    "# SCALER_Previous_Claims_STD_Premium_Amount              0.000000e+00\n",
    "# SCALER_Previous_Claims_Q3_Premium_Amount               0.000000e+00\n",
    "# SCALER_Previous_Claims_Q1_Premium_Amount              -1.000000e+00\n",
    "# SCALER_IsNull_Customer_Feedback                        0.000000e+00\n",
    "# SCALER_Previous_Claims_MAX_Premium_Amount              0.000000e+00\n",
    "# SCALER_Feedback3                                       5.000000e-01\n",
    "# SCALER_IsNull_Previous_Claims                          1.000000e+00\n",
    "# SCALER_IsNull_Marital_Status                           0.000000e+00\n",
    "# SCALER_Health_Score                                   -3.007246e-01\n",
    "# SCALER_Health_Risk_Score                               3.007246e-01\n",
    "# SCALER_Feedback2                                       2.723254e-01\n",
    "# SCALER_CreditInsurance                                -7.626168e-01\n",
    "# SCALER_Sin_Year                                        1.507418e+00\n",
    "# SCALER_IsNull_Credit_Score                             0.000000e+00\n",
    "# SCALER_Health_Age_Interaction                         -4.408912e-01\n",
    "# SCALER_Total_Nulls                                     5.000000e-01\n",
    "# SCALER_ENCODED_Policy_Start_Date_-_Year               -1.000000e+00\n",
    "# SCALER_ENCODED_Policy_Start_Date_-_Quarter            -9.000000e-01\n",
    "# SCALER_Feedback4                                       5.869922e-01\n",
    "# SCALER_IsNull_Number_of_Dependents                     0.000000e+00\n",
    "# SCALER_IsNull_Occupation                               1.000000e+00\n",
    "# SCALER_Health_Conscious_Level1                         1.654915e-01\n",
    "# SCALER_Sin_Month                                      -8.330074e-15\n",
    "# SCALER_Policy_Start_Date_-_Month                       1.000000e+00\n",
    "# SCALER_Health_Conscious_Level                          0.000000e+00\n",
    "# SCALER_Health_Conscious_Level_Q1_Premium_Amount        2.338313e-02\n",
    "# SCALER_Health_Conscious_Level_MEAN_Premium_Amount      0.000000e+00\n",
    "# SCALER_Health_Conscious_Level_MEDIAN_Premium_Amount   -1.073045e+00\n",
    "# SCALER_Number_of_Dependents_MEAN_Premium_Amount       -1.250000e+00\n",
    "# SCALER_Number_of_Dependents_MEDIAN_Premium_Amount     -1.666667e+00\n",
    "# SCALER_Number_of_Dependents_Q1_Premium_Amount         -8.000000e-01\n",
    "# SCALER_Number_of_Dependents_Q3_Premium_Amount         -4.597718e-01\n",
    "# SCALER_Number_of_Dependents_STD_Premium_Amount         2.857143e-01\n",
    "# SCALER_Health_Conscious_Level_Q3_Premium_Amount        4.589986e-01\n",
    "# SCALER_Insurance_Duration_MEAN_Premium_Amount          1.500000e+00\n",
    "# SCALER_Insurance_Duration_MEDIAN_Premium_Amount        3.000000e+00\n",
    "# SCALER_Insurance_Duration_Q1_Premium_Amount            6.250000e-01\n",
    "# SCALER_Insurance_Duration_Q3_Premium_Amount           -5.000000e-01\n",
    "# SCALER_Health_Conscious_Level_MAX_Premium_Amount      -6.006211e-01\n",
    "# SCALER_Credit_Health_Score                             8.571429e-01\n",
    "# SCALER_Occupation_Q3_Premium_Amount                    3.804556e-01\n",
    "# SCALER_Occupation_MEAN_Premium_Amount                 -6.000000e-01\n",
    "# SCALER_Occupation_MAX_Premium_Amount                   6.666667e-01\n",
    "# SCALER_Occupation_MEDIAN_Premium_Amount                1.000000e+00\n",
    "# SCALER_Occupation_Q1_Premium_Amount                    0.000000e+00\n",
    "# SCALER_Previous_Claims_MIN_Premium_Amount              3.333333e-01\n",
    "# SCALER_Insurance_Duration_MAX_Premium_Amount           0.000000e+00\n",
    "# SCALER_ENCODED_Occupation_Self-Employed               -5.217391e-01\n",
    "# SCALER_Age                                            -7.818143e-01\n",
    "# SCALER_Insurance_Duration_STD_Premium_Amount          -5.305991e-01"
   ]
  },
  {
   "cell_type": "markdown",
   "id": "b548fbaf-580e-4678-a4c2-fb39f1425f47",
   "metadata": {},
   "source": [
    "#\n",
    "---\n",
    "#"
   ]
  },
  {
   "cell_type": "code",
   "execution_count": 5,
   "id": "bc8abdbe-54cf-46be-9543-ea287d32c0bc",
   "metadata": {
    "execution": {
     "iopub.execute_input": "2025-01-02T11:36:32.771272Z",
     "iopub.status.busy": "2025-01-02T11:36:32.771272Z",
     "iopub.status.idle": "2025-01-02T11:36:32.777318Z",
     "shell.execute_reply": "2025-01-02T11:36:32.776292Z",
     "shell.execute_reply.started": "2025-01-02T11:36:32.771272Z"
    }
   },
   "outputs": [],
   "source": [
    "import numpy as np\n",
    "import pandas as pd\n",
    "import seaborn as sns\n",
    "import matplotlib.pyplot as plt\n",
    "from scipy.stats import *\n",
    "import xgboost as xgb\n",
    "\n",
    "from sklearn.preprocessing import PowerTransformer\n",
    "from sklearn.pipeline import Pipeline, make_pipeline\n",
    "from sklearn.compose import ColumnTransformer\n",
    "\n",
    "\n",
    "import warnings\n",
    "warnings.filterwarnings(\"ignore\")\n",
    "pd.set_option(\"display.max_columns\", None)"
   ]
  },
  {
   "cell_type": "code",
   "execution_count": null,
   "id": "fdc29dc6-8583-4987-8c66-746ee8a623ad",
   "metadata": {},
   "outputs": [],
   "source": []
  },
  {
   "cell_type": "code",
   "execution_count": null,
   "id": "2879791f-30e1-4157-b4aa-6d19be5e7a50",
   "metadata": {},
   "outputs": [],
   "source": []
  }
 ],
 "metadata": {
  "kernelspec": {
   "display_name": "Python 3 (ipykernel)",
   "language": "python",
   "name": "python3"
  },
  "language_info": {
   "codemirror_mode": {
    "name": "ipython",
    "version": 3
   },
   "file_extension": ".py",
   "mimetype": "text/x-python",
   "name": "python",
   "nbconvert_exporter": "python",
   "pygments_lexer": "ipython3",
   "version": "3.12.7"
  }
 },
 "nbformat": 4,
 "nbformat_minor": 5
}
