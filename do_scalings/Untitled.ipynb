{
 "cells": [
  {
   "cell_type": "markdown",
   "id": "c28ecbbd-a37a-428d-adb0-8e2a1f3f8a47",
   "metadata": {},
   "source": [
    "An unfair coin has tosses 100times. 61 heads has been observed. The coin is either has a probalility of 1/3 or 1/2 or 2/3 of flipping a head each time it is tossed. Which of the three probablility represent MLE?"
   ]
  },
  {
   "cell_type": "code",
   "execution_count": 2,
   "id": "7027ad5b-9fec-4582-9b84-d98c06f6e221",
   "metadata": {
    "execution": {
     "iopub.execute_input": "2025-01-06T05:44:56.367729Z",
     "iopub.status.busy": "2025-01-06T05:44:56.367729Z",
     "iopub.status.idle": "2025-01-06T05:44:56.377337Z",
     "shell.execute_reply": "2025-01-06T05:44:56.377337Z",
     "shell.execute_reply.started": "2025-01-06T05:44:56.367729Z"
    }
   },
   "outputs": [],
   "source": [
    "from math import factorial"
   ]
  },
  {
   "cell_type": "code",
   "execution_count": 6,
   "id": "49fead37-a58c-4bde-9387-611afc9e8788",
   "metadata": {
    "execution": {
     "iopub.execute_input": "2025-01-06T05:47:29.686721Z",
     "iopub.status.busy": "2025-01-06T05:47:29.686721Z",
     "iopub.status.idle": "2025-01-06T05:47:29.694296Z",
     "shell.execute_reply": "2025-01-06T05:47:29.694296Z",
     "shell.execute_reply.started": "2025-01-06T05:47:29.686721Z"
    }
   },
   "outputs": [
    {
     "data": {
      "text/plain": [
       "9.615198455721989e-09"
      ]
     },
     "execution_count": 6,
     "metadata": {},
     "output_type": "execute_result"
    }
   ],
   "source": [
    "(factorial(100) / (factorial(100-61)*factorial(61))) * ((1/3)**61) * ((2/3)**(100-61))"
   ]
  },
  {
   "cell_type": "code",
   "execution_count": 7,
   "id": "49bfabdb-4951-4ce7-9ecb-761ef8edef17",
   "metadata": {
    "execution": {
     "iopub.execute_input": "2025-01-06T05:47:52.217037Z",
     "iopub.status.busy": "2025-01-06T05:47:52.217037Z",
     "iopub.status.idle": "2025-01-06T05:47:52.227615Z",
     "shell.execute_reply": "2025-01-06T05:47:52.227615Z",
     "shell.execute_reply.started": "2025-01-06T05:47:52.217037Z"
    }
   },
   "outputs": [
    {
     "data": {
      "text/plain": [
       "0.00711073226992655"
      ]
     },
     "execution_count": 7,
     "metadata": {},
     "output_type": "execute_result"
    }
   ],
   "source": [
    "(factorial(100) / (factorial(100-61)*factorial(61))) * ((1/2)**61) * ((1/2)**(100-61))"
   ]
  },
  {
   "cell_type": "code",
   "execution_count": 8,
   "id": "05b421fb-83f3-4b40-a11b-89f3de3063bf",
   "metadata": {
    "execution": {
     "iopub.execute_input": "2025-01-06T05:48:00.993678Z",
     "iopub.status.busy": "2025-01-06T05:48:00.993678Z",
     "iopub.status.idle": "2025-01-06T05:48:01.003495Z",
     "shell.execute_reply": "2025-01-06T05:48:01.003495Z",
     "shell.execute_reply.started": "2025-01-06T05:48:00.993678Z"
    }
   },
   "outputs": [
    {
     "data": {
      "text/plain": [
       "0.04032906534362856"
      ]
     },
     "execution_count": 8,
     "metadata": {},
     "output_type": "execute_result"
    }
   ],
   "source": [
    "(factorial(100) / (factorial(100-61)*factorial(61))) * ((2/3)**61) * ((1/3)**(100-61))"
   ]
  },
  {
   "cell_type": "code",
   "execution_count": 9,
   "id": "8f77b5ab-9dd7-466b-acc6-da00b6c11839",
   "metadata": {
    "execution": {
     "iopub.execute_input": "2025-01-06T06:00:25.751365Z",
     "iopub.status.busy": "2025-01-06T06:00:25.751365Z",
     "iopub.status.idle": "2025-01-06T06:00:25.761001Z",
     "shell.execute_reply": "2025-01-06T06:00:25.761001Z",
     "shell.execute_reply.started": "2025-01-06T06:00:25.751365Z"
    }
   },
   "outputs": [],
   "source": [
    "Sample = [0, 1, 0, 0, 1, 0]\n",
    "# Is drawn from a binomial distribution\n",
    "# What is MLE of mu"
   ]
  },
  {
   "cell_type": "code",
   "execution_count": null,
   "id": "8229c6a7-d814-41e8-8a87-f5c1a73077d1",
   "metadata": {},
   "outputs": [],
   "source": []
  }
 ],
 "metadata": {
  "kernelspec": {
   "display_name": "Python 3 (ipykernel)",
   "language": "python",
   "name": "python3"
  },
  "language_info": {
   "codemirror_mode": {
    "name": "ipython",
    "version": 3
   },
   "file_extension": ".py",
   "mimetype": "text/x-python",
   "name": "python",
   "nbconvert_exporter": "python",
   "pygments_lexer": "ipython3",
   "version": "3.12.7"
  }
 },
 "nbformat": 4,
 "nbformat_minor": 5
}
